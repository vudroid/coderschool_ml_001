{
 "cells": [
  {
   "cell_type": "code",
   "execution_count": 18,
   "metadata": {},
   "outputs": [],
   "source": [
    "import pandas as pd\n",
    "import matplotlib.pyplot as plot"
   ]
  },
  {
   "cell_type": "code",
   "execution_count": 4,
   "metadata": {},
   "outputs": [
    {
     "data": {
      "text/html": [
       "<div>\n",
       "<style scoped>\n",
       "    .dataframe tbody tr th:only-of-type {\n",
       "        vertical-align: middle;\n",
       "    }\n",
       "\n",
       "    .dataframe tbody tr th {\n",
       "        vertical-align: top;\n",
       "    }\n",
       "\n",
       "    .dataframe thead th {\n",
       "        text-align: right;\n",
       "    }\n",
       "</style>\n",
       "<table border=\"1\" class=\"dataframe\">\n",
       "  <thead>\n",
       "    <tr style=\"text-align: right;\">\n",
       "      <th></th>\n",
       "      <th>IDNO</th>\n",
       "      <th>BODYFAT</th>\n",
       "      <th>DENSITY</th>\n",
       "      <th>AGE</th>\n",
       "      <th>WEIGHT</th>\n",
       "      <th>HEIGHT</th>\n",
       "      <th>ADIPOSITY</th>\n",
       "      <th>NECK</th>\n",
       "      <th>CHEST</th>\n",
       "      <th>ABDOMEN</th>\n",
       "      <th>HIP</th>\n",
       "      <th>THIGH</th>\n",
       "      <th>KNEE</th>\n",
       "      <th>ANKLE</th>\n",
       "      <th>BICEPS</th>\n",
       "      <th>FOREARM</th>\n",
       "      <th>WRIST</th>\n",
       "    </tr>\n",
       "  </thead>\n",
       "  <tbody>\n",
       "    <tr>\n",
       "      <th>0</th>\n",
       "      <td>1</td>\n",
       "      <td>12.6</td>\n",
       "      <td>1.0708</td>\n",
       "      <td>23</td>\n",
       "      <td>154.25</td>\n",
       "      <td>67.75</td>\n",
       "      <td>23.7</td>\n",
       "      <td>36.2</td>\n",
       "      <td>93.1</td>\n",
       "      <td>85.2</td>\n",
       "      <td>94.5</td>\n",
       "      <td>59.0</td>\n",
       "      <td>37.3</td>\n",
       "      <td>21.9</td>\n",
       "      <td>32.0</td>\n",
       "      <td>27.4</td>\n",
       "      <td>17.1</td>\n",
       "    </tr>\n",
       "    <tr>\n",
       "      <th>1</th>\n",
       "      <td>2</td>\n",
       "      <td>6.9</td>\n",
       "      <td>1.0853</td>\n",
       "      <td>22</td>\n",
       "      <td>173.25</td>\n",
       "      <td>72.25</td>\n",
       "      <td>23.4</td>\n",
       "      <td>38.5</td>\n",
       "      <td>93.6</td>\n",
       "      <td>83.0</td>\n",
       "      <td>98.7</td>\n",
       "      <td>58.7</td>\n",
       "      <td>37.3</td>\n",
       "      <td>23.4</td>\n",
       "      <td>30.5</td>\n",
       "      <td>28.9</td>\n",
       "      <td>18.2</td>\n",
       "    </tr>\n",
       "    <tr>\n",
       "      <th>2</th>\n",
       "      <td>3</td>\n",
       "      <td>24.6</td>\n",
       "      <td>1.0414</td>\n",
       "      <td>22</td>\n",
       "      <td>154.00</td>\n",
       "      <td>66.25</td>\n",
       "      <td>24.7</td>\n",
       "      <td>34.0</td>\n",
       "      <td>95.8</td>\n",
       "      <td>87.9</td>\n",
       "      <td>99.2</td>\n",
       "      <td>59.6</td>\n",
       "      <td>38.9</td>\n",
       "      <td>24.0</td>\n",
       "      <td>28.8</td>\n",
       "      <td>25.2</td>\n",
       "      <td>16.6</td>\n",
       "    </tr>\n",
       "    <tr>\n",
       "      <th>3</th>\n",
       "      <td>4</td>\n",
       "      <td>10.9</td>\n",
       "      <td>1.0751</td>\n",
       "      <td>26</td>\n",
       "      <td>184.75</td>\n",
       "      <td>72.25</td>\n",
       "      <td>24.9</td>\n",
       "      <td>37.4</td>\n",
       "      <td>101.8</td>\n",
       "      <td>86.4</td>\n",
       "      <td>101.2</td>\n",
       "      <td>60.1</td>\n",
       "      <td>37.3</td>\n",
       "      <td>22.8</td>\n",
       "      <td>32.4</td>\n",
       "      <td>29.4</td>\n",
       "      <td>18.2</td>\n",
       "    </tr>\n",
       "    <tr>\n",
       "      <th>4</th>\n",
       "      <td>5</td>\n",
       "      <td>27.8</td>\n",
       "      <td>1.0340</td>\n",
       "      <td>24</td>\n",
       "      <td>184.25</td>\n",
       "      <td>71.25</td>\n",
       "      <td>25.6</td>\n",
       "      <td>34.4</td>\n",
       "      <td>97.3</td>\n",
       "      <td>100.0</td>\n",
       "      <td>101.9</td>\n",
       "      <td>63.2</td>\n",
       "      <td>42.2</td>\n",
       "      <td>24.0</td>\n",
       "      <td>32.2</td>\n",
       "      <td>27.7</td>\n",
       "      <td>17.7</td>\n",
       "    </tr>\n",
       "    <tr>\n",
       "      <th>5</th>\n",
       "      <td>6</td>\n",
       "      <td>20.6</td>\n",
       "      <td>1.0502</td>\n",
       "      <td>24</td>\n",
       "      <td>210.25</td>\n",
       "      <td>74.75</td>\n",
       "      <td>26.5</td>\n",
       "      <td>39.0</td>\n",
       "      <td>104.5</td>\n",
       "      <td>94.4</td>\n",
       "      <td>107.8</td>\n",
       "      <td>66.0</td>\n",
       "      <td>42.0</td>\n",
       "      <td>25.6</td>\n",
       "      <td>35.7</td>\n",
       "      <td>30.6</td>\n",
       "      <td>18.8</td>\n",
       "    </tr>\n",
       "    <tr>\n",
       "      <th>6</th>\n",
       "      <td>7</td>\n",
       "      <td>19.0</td>\n",
       "      <td>1.0549</td>\n",
       "      <td>26</td>\n",
       "      <td>181.00</td>\n",
       "      <td>69.75</td>\n",
       "      <td>26.2</td>\n",
       "      <td>36.4</td>\n",
       "      <td>105.1</td>\n",
       "      <td>90.7</td>\n",
       "      <td>100.3</td>\n",
       "      <td>58.4</td>\n",
       "      <td>38.3</td>\n",
       "      <td>22.9</td>\n",
       "      <td>31.9</td>\n",
       "      <td>27.8</td>\n",
       "      <td>17.7</td>\n",
       "    </tr>\n",
       "    <tr>\n",
       "      <th>7</th>\n",
       "      <td>8</td>\n",
       "      <td>12.8</td>\n",
       "      <td>1.0704</td>\n",
       "      <td>25</td>\n",
       "      <td>176.00</td>\n",
       "      <td>72.50</td>\n",
       "      <td>23.6</td>\n",
       "      <td>37.8</td>\n",
       "      <td>99.6</td>\n",
       "      <td>88.5</td>\n",
       "      <td>97.1</td>\n",
       "      <td>60.0</td>\n",
       "      <td>39.4</td>\n",
       "      <td>23.2</td>\n",
       "      <td>30.5</td>\n",
       "      <td>29.0</td>\n",
       "      <td>18.8</td>\n",
       "    </tr>\n",
       "    <tr>\n",
       "      <th>8</th>\n",
       "      <td>9</td>\n",
       "      <td>5.1</td>\n",
       "      <td>1.0900</td>\n",
       "      <td>25</td>\n",
       "      <td>191.00</td>\n",
       "      <td>74.00</td>\n",
       "      <td>24.6</td>\n",
       "      <td>38.1</td>\n",
       "      <td>100.9</td>\n",
       "      <td>82.5</td>\n",
       "      <td>99.9</td>\n",
       "      <td>62.9</td>\n",
       "      <td>38.3</td>\n",
       "      <td>23.8</td>\n",
       "      <td>35.9</td>\n",
       "      <td>31.1</td>\n",
       "      <td>18.2</td>\n",
       "    </tr>\n",
       "    <tr>\n",
       "      <th>9</th>\n",
       "      <td>10</td>\n",
       "      <td>12.0</td>\n",
       "      <td>1.0722</td>\n",
       "      <td>23</td>\n",
       "      <td>198.25</td>\n",
       "      <td>73.50</td>\n",
       "      <td>25.8</td>\n",
       "      <td>42.1</td>\n",
       "      <td>99.6</td>\n",
       "      <td>88.6</td>\n",
       "      <td>104.1</td>\n",
       "      <td>63.1</td>\n",
       "      <td>41.7</td>\n",
       "      <td>25.0</td>\n",
       "      <td>35.6</td>\n",
       "      <td>30.0</td>\n",
       "      <td>19.2</td>\n",
       "    </tr>\n",
       "  </tbody>\n",
       "</table>\n",
       "</div>"
      ],
      "text/plain": [
       "   IDNO  BODYFAT  DENSITY  AGE  WEIGHT  HEIGHT  ADIPOSITY  NECK  CHEST  \\\n",
       "0     1     12.6   1.0708   23  154.25   67.75       23.7  36.2   93.1   \n",
       "1     2      6.9   1.0853   22  173.25   72.25       23.4  38.5   93.6   \n",
       "2     3     24.6   1.0414   22  154.00   66.25       24.7  34.0   95.8   \n",
       "3     4     10.9   1.0751   26  184.75   72.25       24.9  37.4  101.8   \n",
       "4     5     27.8   1.0340   24  184.25   71.25       25.6  34.4   97.3   \n",
       "5     6     20.6   1.0502   24  210.25   74.75       26.5  39.0  104.5   \n",
       "6     7     19.0   1.0549   26  181.00   69.75       26.2  36.4  105.1   \n",
       "7     8     12.8   1.0704   25  176.00   72.50       23.6  37.8   99.6   \n",
       "8     9      5.1   1.0900   25  191.00   74.00       24.6  38.1  100.9   \n",
       "9    10     12.0   1.0722   23  198.25   73.50       25.8  42.1   99.6   \n",
       "\n",
       "   ABDOMEN    HIP  THIGH  KNEE  ANKLE  BICEPS  FOREARM  WRIST  \n",
       "0     85.2   94.5   59.0  37.3   21.9    32.0     27.4   17.1  \n",
       "1     83.0   98.7   58.7  37.3   23.4    30.5     28.9   18.2  \n",
       "2     87.9   99.2   59.6  38.9   24.0    28.8     25.2   16.6  \n",
       "3     86.4  101.2   60.1  37.3   22.8    32.4     29.4   18.2  \n",
       "4    100.0  101.9   63.2  42.2   24.0    32.2     27.7   17.7  \n",
       "5     94.4  107.8   66.0  42.0   25.6    35.7     30.6   18.8  \n",
       "6     90.7  100.3   58.4  38.3   22.9    31.9     27.8   17.7  \n",
       "7     88.5   97.1   60.0  39.4   23.2    30.5     29.0   18.8  \n",
       "8     82.5   99.9   62.9  38.3   23.8    35.9     31.1   18.2  \n",
       "9     88.6  104.1   63.1  41.7   25.0    35.6     30.0   19.2  "
      ]
     },
     "execution_count": 4,
     "metadata": {},
     "output_type": "execute_result"
    }
   ],
   "source": [
    "df = pd.read_excel(\"BodyFat.xls\")\n",
    "df.head(10)"
   ]
  },
  {
   "cell_type": "markdown",
   "metadata": {},
   "source": [
    "# waddup world #\n",
    "\n",
    "yup. it's me."
   ]
  },
  {
   "cell_type": "code",
   "execution_count": 9,
   "metadata": {},
   "outputs": [
    {
     "data": {
      "text/plain": [
       "IDNO         0.047717\n",
       "BODYFAT      0.727994\n",
       "DENSITY     -0.714732\n",
       "AGE          0.118851\n",
       "WEIGHT       0.887352\n",
       "HEIGHT      -0.024891\n",
       "ADIPOSITY    1.000000\n",
       "NECK         0.777857\n",
       "CHEST        0.911799\n",
       "ABDOMEN      0.923880\n",
       "HIP          0.883269\n",
       "THIGH        0.812706\n",
       "KNEE         0.713660\n",
       "ANKLE        0.500317\n",
       "BICEPS       0.746384\n",
       "FOREARM      0.558594\n",
       "WRIST        0.625907\n",
       "Name: ADIPOSITY, dtype: float64"
      ]
     },
     "execution_count": 9,
     "metadata": {},
     "output_type": "execute_result"
    }
   ],
   "source": [
    "df.corr()[\"ADIPOSITY\"]"
   ]
  },
  {
   "cell_type": "markdown",
   "metadata": {},
   "source": [
    "## and the snitch awards go to ... ##\n",
    "\n",
    "... **Chest** & **Abdomen**\n",
    "\n",
    "for letting you or others know that you may or may not, in fact, be fat."
   ]
  },
  {
   "cell_type": "code",
   "execution_count": 19,
   "metadata": {},
   "outputs": [
    {
     "data": {
      "text/plain": [
       "<matplotlib.image.AxesImage at 0x10ead1e80>"
      ]
     },
     "execution_count": 19,
     "metadata": {},
     "output_type": "execute_result"
    },
    {
     "data": {
      "image/png": "[encoded data removed]",
      "text/plain": [
       "<matplotlib.figure.Figure at 0x1039f6320>"
      ]
     },
     "metadata": {},
     "output_type": "display_data"
    }
   ],
   "source": [
    "plot.matshow(df.corr())"
   ]
  },
  {
   "cell_type": "code",
   "execution_count": 70,
   "metadata": {},
   "outputs": [],
   "source": [
    "def plot_dat(ho):\n",
    "    c = ho.corr()\n",
    "    fig, ax = plot.subplots(figsize=(16,16))\n",
    "    ax.matshow(c)\n",
    "    print(ho.size)\n",
    "    plot.xticks(range(len(c.columns)), c.columns)\n",
    "    plot.yticks(range(len(c.columns)), c.columns)\n"
   ]
  },
  {
   "cell_type": "code",
   "execution_count": 71,
   "metadata": {
    "scrolled": true
   },
   "outputs": [
    {
     "name": "stdout",
     "output_type": "stream",
     "text": [
      "4284\n"
     ]
    },
    {
     "data": {
      "image/png": "[encoded data removed]",
      "text/plain": [
       "<matplotlib.figure.Figure at 0x1130e29b0>"
      ]
     },
     "metadata": {},
     "output_type": "display_data"
    }
   ],
   "source": [
    "plot_dat(df)"
   ]
  },
  {
   "cell_type": "code",
   "execution_count": 49,
   "metadata": {},
   "outputs": [
    {
     "name": "stdout",
     "output_type": "stream",
     "text": [
      "2312\n",
      "1972\n"
     ]
    }
   ],
   "source": [
    "youthful_under_45 = df[ df[\"AGE\"] < 45]\n",
    "you_old_over_45 = df[ df[\"AGE\"] >= 45]\n",
    "\n",
    "print(youthful_under_45.size)\n",
    "print(you_old_over_45.size)"
   ]
  },
  {
   "cell_type": "code",
   "execution_count": 50,
   "metadata": {},
   "outputs": [
    {
     "name": "stdout",
     "output_type": "stream",
     "text": [
      "0.05891215582800935\n",
      "-0.04490096372751273\n",
      "0.02861417819300538\n",
      "0.024507558141896868\n",
      "0.0049510416404691115\n",
      "0.03514388196089998\n",
      "0.0\n",
      "-0.030663409124133456\n",
      "0.004175860726502445\n",
      "-0.020820580840045233\n",
      "-0.010269505864226813\n",
      "0.03210502074934207\n",
      "0.10830842534469676\n",
      "-0.06194043011693734\n",
      "0.08871955387814023\n",
      "-0.014162800579309187\n",
      "0.036528410574490966\n"
     ]
    }
   ],
   "source": [
    "corr_youth = youthful_under_45.corr()[\"ADIPOSITY\"]\n",
    "corr_old = you_old_over_45.corr()[\"ADIPOSITY\"]\n",
    "\n",
    "for i in range(df.columns.values.size):\n",
    "    print(corr_youth[i] - corr_old[i])"
   ]
  },
  {
   "cell_type": "code",
   "execution_count": 46,
   "metadata": {},
   "outputs": [
    {
     "name": "stdout",
     "output_type": "stream",
     "text": [
      "['IDNO', 'BODYFAT', 'DENSITY', 'AGE', 'WEIGHT', 'HEIGHT', 'ADIPOSITY', 'NECK', 'CHEST', 'ABDOMEN', 'HIP', 'THIGH', 'KNEE', 'ANKLE', 'BICEPS', 'FOREARM', 'WRIST']\n",
      "17\n",
      "0 IDNO\n",
      "1 BODYFAT\n",
      "2 DENSITY\n",
      "3 AGE\n",
      "4 WEIGHT\n",
      "5 HEIGHT\n",
      "6 ADIPOSITY\n",
      "7 NECK\n",
      "8 CHEST\n",
      "9 ABDOMEN\n",
      "10 HIP\n",
      "11 THIGH\n",
      "12 KNEE\n",
      "13 ANKLE\n",
      "14 BICEPS\n",
      "15 FOREARM\n",
      "16 WRIST\n"
     ]
    }
   ],
   "source": [
    "snitchez = list(df.corr())\n",
    "print(snitchez)\n",
    "print(len(snitchez))\n",
    "\n",
    "for label, item in enumerate(snitchez):\n",
    "    print(label, item)\n"
   ]
  },
  {
   "cell_type": "code",
   "execution_count": 60,
   "metadata": {},
   "outputs": [
    {
     "data": {
      "text/plain": [
       "IDNO         252.0000\n",
       "BODYFAT       45.1000\n",
       "DENSITY        1.1089\n",
       "AGE           81.0000\n",
       "WEIGHT       363.1500\n",
       "HEIGHT        77.7500\n",
       "ADIPOSITY     48.9000\n",
       "NECK          51.2000\n",
       "CHEST        136.2000\n",
       "ABDOMEN      148.1000\n",
       "HIP          147.7000\n",
       "THIGH         87.3000\n",
       "KNEE          49.1000\n",
       "ANKLE         33.9000\n",
       "BICEPS        45.0000\n",
       "FOREARM       34.9000\n",
       "WRIST         21.4000\n",
       "dtype: float64"
      ]
     },
     "execution_count": 60,
     "metadata": {},
     "output_type": "execute_result"
    }
   ],
   "source": [
    "df.max() # aka, the winners in each category"
   ]
  },
  {
   "cell_type": "code",
   "execution_count": 78,
   "metadata": {},
   "outputs": [
    {
     "data": {
      "text/plain": [
       "[['IDNO', 'xyz'],\n",
       " ['BODYFAT', 'xyz'],\n",
       " ['DENSITY', 'xyz'],\n",
       " ['AGE', 'xyz'],\n",
       " ['WEIGHT', 'xyz'],\n",
       " ['HEIGHT', 'xyz'],\n",
       " ['ADIPOSITY', 'xyz'],\n",
       " ['NECK', 'xyz'],\n",
       " ['CHEST', 'xyz'],\n",
       " ['ABDOMEN', 'xyz'],\n",
       " ['HIP', 'xyz'],\n",
       " ['THIGH', 'xyz'],\n",
       " ['KNEE', 'xyz'],\n",
       " ['ANKLE', 'xyz'],\n",
       " ['BICEPS', 'xyz'],\n",
       " ['FOREARM', 'xyz'],\n",
       " ['WRIST', 'xyz']]"
      ]
     },
     "execution_count": 78,
     "metadata": {},
     "output_type": "execute_result"
    }
   ],
   "source": [
    "the_list = []\n",
    "for i in snitchez:\n",
    "    the_list.append([i,\"xyz\"])\n",
    "the_list"
   ]
  },
  {
   "cell_type": "code",
   "execution_count": 80,
   "metadata": {},
   "outputs": [
    {
     "data": {
      "text/plain": [
       "[['IDNO', 0.05891215582800935],\n",
       " ['BODYFAT', -0.04490096372751273],\n",
       " ['DENSITY', 0.02861417819300538],\n",
       " ['AGE', 0.024507558141896868],\n",
       " ['WEIGHT', 0.0049510416404691115],\n",
       " ['HEIGHT', 0.03514388196089998],\n",
       " ['ADIPOSITY', 0.0],\n",
       " ['NECK', -0.030663409124133456],\n",
       " ['CHEST', 0.004175860726502445],\n",
       " ['ABDOMEN', -0.020820580840045233],\n",
       " ['HIP', -0.010269505864226813],\n",
       " ['THIGH', 0.03210502074934207],\n",
       " ['KNEE', 0.10830842534469676],\n",
       " ['ANKLE', -0.06194043011693734],\n",
       " ['BICEPS', 0.08871955387814023],\n",
       " ['FOREARM', -0.014162800579309187],\n",
       " ['WRIST', 0.036528410574490966]]"
      ]
     },
     "execution_count": 80,
     "metadata": {},
     "output_type": "execute_result"
    }
   ],
   "source": [
    "final_list = []\n",
    "for i in range(df.columns.values.size):\n",
    "    final_list.append([snitchez[i], corr_youth[i] - corr_old[i]])\n",
    "final_list\n",
    "                       "
   ]
  },
  {
   "cell_type": "markdown",
   "metadata": {},
   "source": [
    "# over 45 years old ? \n",
    "\n",
    "... check dem **knees** ..."
   ]
  }
 ],
 "metadata": {
  "kernelspec": {
   "display_name": "Python 3",
   "language": "python",
   "name": "python3"
  },
  "language_info": {
   "codemirror_mode": {
    "name": "ipython",
    "version": 3
   },
   "file_extension": ".py",
   "mimetype": "text/x-python",
   "name": "python",
   "nbconvert_exporter": "python",
   "pygments_lexer": "ipython3",
   "version": "3.6.4"
  }
 },
 "nbformat": 4,
 "nbformat_minor": 2
}
